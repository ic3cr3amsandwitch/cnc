{
 "cells": [
  {
   "cell_type": "markdown",
   "metadata": {},
   "source": [
    "# 1. Import libraries"
   ]
  },
  {
   "cell_type": "code",
   "execution_count": 6,
   "metadata": {
    "_cell_guid": "b1076dfc-b9ad-4769-8c92-a6c4dae69d19",
    "_kg_hide-output": true,
    "_uuid": "8f2839f25d086af736a60e9eeb907d3b93b6e0e5",
    "execution": {
     "iopub.execute_input": "2021-10-05T18:47:14.430917Z",
     "iopub.status.busy": "2021-10-05T18:47:14.430539Z",
     "iopub.status.idle": "2021-10-05T18:47:18.039130Z",
     "shell.execute_reply": "2021-10-05T18:47:18.038399Z",
     "shell.execute_reply.started": "2021-10-05T18:47:14.430856Z"
    }
   },
   "outputs": [],
   "source": [
    "import numpy as np\n",
    "import pandas as pd\n",
    "import seaborn as sns\n",
    "from matplotlib import pyplot as plt\n",
    "from sklearn.model_selection import train_test_split\n",
    "from sklearn.preprocessing import StandardScaler, LabelEncoder\n",
    "from sklearn.metrics import accuracy_score, f1_score, roc_auc_score\n",
    "import os\n",
    "from scipy import signal\n",
    "import lightgbm as lgb"
   ]
  },
  {
   "cell_type": "markdown",
   "metadata": {},
   "source": [
    "# 2. Load the dataset"
   ]
  },
  {
   "cell_type": "code",
   "execution_count": 7,
   "metadata": {
    "_kg_hide-output": true,
    "execution": {
     "iopub.execute_input": "2021-10-05T18:47:19.052417Z",
     "iopub.status.busy": "2021-10-05T18:47:19.051940Z",
     "iopub.status.idle": "2021-10-05T18:47:19.081814Z",
     "shell.execute_reply": "2021-10-05T18:47:19.080989Z",
     "shell.execute_reply.started": "2021-10-05T18:47:19.052369Z"
    }
   },
   "outputs": [
    {
     "name": "stdout",
     "output_type": "stream",
     "text": [
      "/home/maximka/Desktop/python_jup/experiments/experiment_15.csv\n",
      "/home/maximka/Desktop/python_jup/experiments/experiment_11.csv\n",
      "/home/maximka/Desktop/python_jup/experiments/experiment_07.csv\n",
      "/home/maximka/Desktop/python_jup/experiments/experiment_08.csv\n",
      "/home/maximka/Desktop/python_jup/experiments/experiment_18.csv\n",
      "/home/maximka/Desktop/python_jup/experiments/experiment_09.csv\n",
      "/home/maximka/Desktop/python_jup/experiments/experiment_03.csv\n",
      "/home/maximka/Desktop/python_jup/experiments/experiment_16.csv\n",
      "/home/maximka/Desktop/python_jup/experiments/experiment_02.csv\n",
      "/home/maximka/Desktop/python_jup/experiments/experiment_14.csv\n",
      "/home/maximka/Desktop/python_jup/experiments/train.csv\n",
      "/home/maximka/Desktop/python_jup/experiments/experiment_12.csv\n",
      "/home/maximka/Desktop/python_jup/experiments/experiment_17.csv\n",
      "/home/maximka/Desktop/python_jup/experiments/experiment_04.csv\n",
      "/home/maximka/Desktop/python_jup/experiments/experiment_13.csv\n",
      "/home/maximka/Desktop/python_jup/experiments/experiment_06.csv\n",
      "/home/maximka/Desktop/python_jup/experiments/experiment_01.csv\n",
      "/home/maximka/Desktop/python_jup/experiments/experiment_10.csv\n",
      "/home/maximka/Desktop/python_jup/experiments/experiment_05.csv\n"
     ]
    }
   ],
   "source": [
    "for dirname, _, filenames in os.walk('/home/maximka/Desktop/python_jup/experiments/'):\n",
    "    for filename in filenames:\n",
    "        print(os.path.join(dirname, filename))"
   ]
  },
  {
   "cell_type": "code",
   "execution_count": 8,
   "metadata": {
    "_cell_guid": "79c7e3d0-c299-4dcb-8224-4455121ee9b0",
    "_kg_hide-output": true,
    "_uuid": "d629ff2d2480ee46fbb7e2d37f6b5fab8052498a",
    "execution": {
     "iopub.execute_input": "2021-10-05T18:47:21.773507Z",
     "iopub.status.busy": "2021-10-05T18:47:21.772977Z",
     "iopub.status.idle": "2021-10-05T18:47:21.814572Z",
     "shell.execute_reply": "2021-10-05T18:47:21.813627Z",
     "shell.execute_reply.started": "2021-10-05T18:47:21.773441Z"
    }
   },
   "outputs": [
    {
     "name": "stdout",
     "output_type": "stream",
     "text": [
      "train.csv : (18, 7)\n"
     ]
    },
    {
     "data": {
      "text/html": [
       "<div>\n",
       "<style scoped>\n",
       "    .dataframe tbody tr th:only-of-type {\n",
       "        vertical-align: middle;\n",
       "    }\n",
       "\n",
       "    .dataframe tbody tr th {\n",
       "        vertical-align: top;\n",
       "    }\n",
       "\n",
       "    .dataframe thead th {\n",
       "        text-align: right;\n",
       "    }\n",
       "</style>\n",
       "<table border=\"1\" class=\"dataframe\">\n",
       "  <thead>\n",
       "    <tr style=\"text-align: right;\">\n",
       "      <th></th>\n",
       "      <th>No</th>\n",
       "      <th>material</th>\n",
       "      <th>feedrate</th>\n",
       "      <th>clamp_pressure</th>\n",
       "      <th>tool_condition</th>\n",
       "      <th>machining_finalized</th>\n",
       "      <th>passed_visual_inspection</th>\n",
       "    </tr>\n",
       "  </thead>\n",
       "  <tbody>\n",
       "    <tr>\n",
       "      <th>0</th>\n",
       "      <td>1</td>\n",
       "      <td>wax</td>\n",
       "      <td>6</td>\n",
       "      <td>4.0</td>\n",
       "      <td>unworn</td>\n",
       "      <td>yes</td>\n",
       "      <td>yes</td>\n",
       "    </tr>\n",
       "    <tr>\n",
       "      <th>1</th>\n",
       "      <td>2</td>\n",
       "      <td>wax</td>\n",
       "      <td>20</td>\n",
       "      <td>4.0</td>\n",
       "      <td>unworn</td>\n",
       "      <td>yes</td>\n",
       "      <td>yes</td>\n",
       "    </tr>\n",
       "    <tr>\n",
       "      <th>2</th>\n",
       "      <td>3</td>\n",
       "      <td>wax</td>\n",
       "      <td>6</td>\n",
       "      <td>3.0</td>\n",
       "      <td>unworn</td>\n",
       "      <td>yes</td>\n",
       "      <td>yes</td>\n",
       "    </tr>\n",
       "  </tbody>\n",
       "</table>\n",
       "</div>"
      ],
      "text/plain": [
       "   No material  feedrate  clamp_pressure tool_condition machining_finalized  \\\n",
       "0   1      wax         6             4.0         unworn                 yes   \n",
       "1   2      wax        20             4.0         unworn                 yes   \n",
       "2   3      wax         6             3.0         unworn                 yes   \n",
       "\n",
       "  passed_visual_inspection  \n",
       "0                      yes  \n",
       "1                      yes  \n",
       "2                      yes  "
      ]
     },
     "execution_count": 8,
     "metadata": {},
     "output_type": "execute_result"
    }
   ],
   "source": [
    "experiment_result = pd.read_csv(\"/home/maximka/Desktop/python_jup/experiments/train.csv\")\n",
    "print(f'train.csv : {experiment_result.shape}')\n",
    "experiment_result.head(3)"
   ]
  },
  {
   "cell_type": "code",
   "execution_count": 9,
   "metadata": {
    "_kg_hide-output": true,
    "execution": {
     "iopub.execute_input": "2021-10-05T18:47:24.757932Z",
     "iopub.status.busy": "2021-10-05T18:47:24.757574Z",
     "iopub.status.idle": "2021-10-05T18:47:24.809631Z",
     "shell.execute_reply": "2021-10-05T18:47:24.808698Z",
     "shell.execute_reply.started": "2021-10-05T18:47:24.757875Z"
    }
   },
   "outputs": [
    {
     "name": "stdout",
     "output_type": "stream",
     "text": [
      "experiment_XX.csv : (1055, 48)\n",
      "Index(['X1_ActualPosition', 'X1_ActualVelocity', 'X1_ActualAcceleration',\n",
      "       'X1_CommandPosition', 'X1_CommandVelocity', 'X1_CommandAcceleration',\n",
      "       'X1_CurrentFeedback', 'X1_DCBusVoltage', 'X1_OutputCurrent',\n",
      "       'X1_OutputVoltage', 'X1_OutputPower', 'Y1_ActualPosition',\n",
      "       'Y1_ActualVelocity', 'Y1_ActualAcceleration', 'Y1_CommandPosition',\n",
      "       'Y1_CommandVelocity', 'Y1_CommandAcceleration', 'Y1_CurrentFeedback',\n",
      "       'Y1_DCBusVoltage', 'Y1_OutputCurrent', 'Y1_OutputVoltage',\n",
      "       'Y1_OutputPower', 'Z1_ActualPosition', 'Z1_ActualVelocity',\n",
      "       'Z1_ActualAcceleration', 'Z1_CommandPosition', 'Z1_CommandVelocity',\n",
      "       'Z1_CommandAcceleration', 'Z1_CurrentFeedback', 'Z1_DCBusVoltage',\n",
      "       'Z1_OutputCurrent', 'Z1_OutputVoltage', 'S1_ActualPosition',\n",
      "       'S1_ActualVelocity', 'S1_ActualAcceleration', 'S1_CommandPosition',\n",
      "       'S1_CommandVelocity', 'S1_CommandAcceleration', 'S1_CurrentFeedback',\n",
      "       'S1_DCBusVoltage', 'S1_OutputCurrent', 'S1_OutputVoltage',\n",
      "       'S1_OutputPower', 'S1_SystemInertia', 'M1_CURRENT_PROGRAM_NUMBER',\n",
      "       'M1_sequence_number', 'M1_CURRENT_FEEDRATE', 'Machining_Process'],\n",
      "      dtype='object')\n"
     ]
    },
    {
     "data": {
      "text/html": [
       "<div>\n",
       "<style scoped>\n",
       "    .dataframe tbody tr th:only-of-type {\n",
       "        vertical-align: middle;\n",
       "    }\n",
       "\n",
       "    .dataframe tbody tr th {\n",
       "        vertical-align: top;\n",
       "    }\n",
       "\n",
       "    .dataframe thead th {\n",
       "        text-align: right;\n",
       "    }\n",
       "</style>\n",
       "<table border=\"1\" class=\"dataframe\">\n",
       "  <thead>\n",
       "    <tr style=\"text-align: right;\">\n",
       "      <th></th>\n",
       "      <th>X1_ActualPosition</th>\n",
       "      <th>X1_ActualVelocity</th>\n",
       "      <th>X1_ActualAcceleration</th>\n",
       "      <th>X1_CommandPosition</th>\n",
       "      <th>X1_CommandVelocity</th>\n",
       "      <th>X1_CommandAcceleration</th>\n",
       "      <th>X1_CurrentFeedback</th>\n",
       "      <th>X1_DCBusVoltage</th>\n",
       "      <th>X1_OutputCurrent</th>\n",
       "      <th>X1_OutputVoltage</th>\n",
       "      <th>...</th>\n",
       "      <th>S1_CurrentFeedback</th>\n",
       "      <th>S1_DCBusVoltage</th>\n",
       "      <th>S1_OutputCurrent</th>\n",
       "      <th>S1_OutputVoltage</th>\n",
       "      <th>S1_OutputPower</th>\n",
       "      <th>S1_SystemInertia</th>\n",
       "      <th>M1_CURRENT_PROGRAM_NUMBER</th>\n",
       "      <th>M1_sequence_number</th>\n",
       "      <th>M1_CURRENT_FEEDRATE</th>\n",
       "      <th>Machining_Process</th>\n",
       "    </tr>\n",
       "  </thead>\n",
       "  <tbody>\n",
       "    <tr>\n",
       "      <th>0</th>\n",
       "      <td>198.0</td>\n",
       "      <td>0.0</td>\n",
       "      <td>0.00</td>\n",
       "      <td>198.0</td>\n",
       "      <td>0.0</td>\n",
       "      <td>0.000000</td>\n",
       "      <td>0.18</td>\n",
       "      <td>0.0207</td>\n",
       "      <td>329.0</td>\n",
       "      <td>2.77</td>\n",
       "      <td>...</td>\n",
       "      <td>0.524</td>\n",
       "      <td>2.740000e-19</td>\n",
       "      <td>329.0</td>\n",
       "      <td>0.0</td>\n",
       "      <td>6.960000e-07</td>\n",
       "      <td>12.0</td>\n",
       "      <td>1.0</td>\n",
       "      <td>0.0</td>\n",
       "      <td>50.0</td>\n",
       "      <td>Starting</td>\n",
       "    </tr>\n",
       "    <tr>\n",
       "      <th>1</th>\n",
       "      <td>198.0</td>\n",
       "      <td>-10.8</td>\n",
       "      <td>-350.00</td>\n",
       "      <td>198.0</td>\n",
       "      <td>-13.6</td>\n",
       "      <td>-358.000000</td>\n",
       "      <td>-10.90</td>\n",
       "      <td>0.1860</td>\n",
       "      <td>328.0</td>\n",
       "      <td>23.30</td>\n",
       "      <td>...</td>\n",
       "      <td>-0.288</td>\n",
       "      <td>2.740000e-19</td>\n",
       "      <td>328.0</td>\n",
       "      <td>0.0</td>\n",
       "      <td>-5.270000e-07</td>\n",
       "      <td>12.0</td>\n",
       "      <td>1.0</td>\n",
       "      <td>4.0</td>\n",
       "      <td>50.0</td>\n",
       "      <td>Prep</td>\n",
       "    </tr>\n",
       "    <tr>\n",
       "      <th>2</th>\n",
       "      <td>196.0</td>\n",
       "      <td>-17.8</td>\n",
       "      <td>-6.25</td>\n",
       "      <td>196.0</td>\n",
       "      <td>-17.9</td>\n",
       "      <td>-0.000095</td>\n",
       "      <td>-8.59</td>\n",
       "      <td>0.1400</td>\n",
       "      <td>328.0</td>\n",
       "      <td>30.60</td>\n",
       "      <td>...</td>\n",
       "      <td>0.524</td>\n",
       "      <td>2.740000e-19</td>\n",
       "      <td>328.0</td>\n",
       "      <td>0.0</td>\n",
       "      <td>9.100000e-07</td>\n",
       "      <td>12.0</td>\n",
       "      <td>1.0</td>\n",
       "      <td>7.0</td>\n",
       "      <td>50.0</td>\n",
       "      <td>Prep</td>\n",
       "    </tr>\n",
       "  </tbody>\n",
       "</table>\n",
       "<p>3 rows × 48 columns</p>\n",
       "</div>"
      ],
      "text/plain": [
       "   X1_ActualPosition  X1_ActualVelocity  X1_ActualAcceleration  \\\n",
       "0              198.0                0.0                   0.00   \n",
       "1              198.0              -10.8                -350.00   \n",
       "2              196.0              -17.8                  -6.25   \n",
       "\n",
       "   X1_CommandPosition  X1_CommandVelocity  X1_CommandAcceleration  \\\n",
       "0               198.0                 0.0                0.000000   \n",
       "1               198.0               -13.6             -358.000000   \n",
       "2               196.0               -17.9               -0.000095   \n",
       "\n",
       "   X1_CurrentFeedback  X1_DCBusVoltage  X1_OutputCurrent  X1_OutputVoltage  \\\n",
       "0                0.18           0.0207             329.0              2.77   \n",
       "1              -10.90           0.1860             328.0             23.30   \n",
       "2               -8.59           0.1400             328.0             30.60   \n",
       "\n",
       "   ...  S1_CurrentFeedback  S1_DCBusVoltage  S1_OutputCurrent  \\\n",
       "0  ...               0.524     2.740000e-19             329.0   \n",
       "1  ...              -0.288     2.740000e-19             328.0   \n",
       "2  ...               0.524     2.740000e-19             328.0   \n",
       "\n",
       "   S1_OutputVoltage  S1_OutputPower  S1_SystemInertia  \\\n",
       "0               0.0    6.960000e-07              12.0   \n",
       "1               0.0   -5.270000e-07              12.0   \n",
       "2               0.0    9.100000e-07              12.0   \n",
       "\n",
       "   M1_CURRENT_PROGRAM_NUMBER  M1_sequence_number  M1_CURRENT_FEEDRATE  \\\n",
       "0                        1.0                 0.0                 50.0   \n",
       "1                        1.0                 4.0                 50.0   \n",
       "2                        1.0                 7.0                 50.0   \n",
       "\n",
       "   Machining_Process  \n",
       "0           Starting  \n",
       "1               Prep  \n",
       "2               Prep  \n",
       "\n",
       "[3 rows x 48 columns]"
      ]
     },
     "execution_count": 9,
     "metadata": {},
     "output_type": "execute_result"
    }
   ],
   "source": [
    "experiment_tmp = pd.read_csv(\"/home/maximka/Desktop/python_jup/experiments/experiment_01.csv\")\n",
    "print(f'experiment_XX.csv : {experiment_tmp.shape}')\n",
    "print(experiment_tmp.columns)\n",
    "experiment_tmp.head(3)"
   ]
  },
  {
   "cell_type": "markdown",
   "metadata": {},
   "source": [
    "# 3. Pre-processing"
   ]
  },
  {
   "cell_type": "markdown",
   "metadata": {},
   "source": [
    ">NaN in passed_visual_inspection in experiment result means machining_finalized is no, which means machining process was not finished correctly and did not proceed to visual inspection process. So, we need to fill NaN with no."
   ]
  },
  {
   "cell_type": "code",
   "execution_count": 11,
   "metadata": {
    "execution": {
     "iopub.execute_input": "2021-10-05T18:47:31.580557Z",
     "iopub.status.busy": "2021-10-05T18:47:31.580029Z",
     "iopub.status.idle": "2021-10-05T18:47:31.587333Z",
     "shell.execute_reply": "2021-10-05T18:47:31.586110Z",
     "shell.execute_reply.started": "2021-10-05T18:47:31.580510Z"
    }
   },
   "outputs": [],
   "source": [
    "experiment_result['passed_visual_inspection'] = experiment_result['passed_visual_inspection'].fillna('no')"
   ]
  },
  {
   "cell_type": "markdown",
   "metadata": {},
   "source": [
    ">adding each experiment settings and result to experiment time series data to make one total dataframe."
   ]
  },
  {
   "cell_type": "code",
   "execution_count": 13,
   "metadata": {
    "execution": {
     "iopub.execute_input": "2021-10-05T18:47:33.850350Z",
     "iopub.status.busy": "2021-10-05T18:47:33.849852Z",
     "iopub.status.idle": "2021-10-05T18:47:34.518023Z",
     "shell.execute_reply": "2021-10-05T18:47:34.517132Z",
     "shell.execute_reply.started": "2021-10-05T18:47:33.850284Z"
    }
   },
   "outputs": [
    {
     "data": {
      "text/html": [
       "<div>\n",
       "<style scoped>\n",
       "    .dataframe tbody tr th:only-of-type {\n",
       "        vertical-align: middle;\n",
       "    }\n",
       "\n",
       "    .dataframe tbody tr th {\n",
       "        vertical-align: top;\n",
       "    }\n",
       "\n",
       "    .dataframe thead th {\n",
       "        text-align: right;\n",
       "    }\n",
       "</style>\n",
       "<table border=\"1\" class=\"dataframe\">\n",
       "  <thead>\n",
       "    <tr style=\"text-align: right;\">\n",
       "      <th></th>\n",
       "      <th>X1_ActualPosition</th>\n",
       "      <th>X1_ActualVelocity</th>\n",
       "      <th>X1_ActualAcceleration</th>\n",
       "      <th>X1_CommandPosition</th>\n",
       "      <th>X1_CommandVelocity</th>\n",
       "      <th>X1_CommandAcceleration</th>\n",
       "      <th>X1_CurrentFeedback</th>\n",
       "      <th>X1_DCBusVoltage</th>\n",
       "      <th>X1_OutputCurrent</th>\n",
       "      <th>X1_OutputVoltage</th>\n",
       "      <th>...</th>\n",
       "      <th>M1_sequence_number</th>\n",
       "      <th>M1_CURRENT_FEEDRATE</th>\n",
       "      <th>Machining_Process</th>\n",
       "      <th>exp_num</th>\n",
       "      <th>material</th>\n",
       "      <th>feedrate</th>\n",
       "      <th>clamp_pressure</th>\n",
       "      <th>tool_condition</th>\n",
       "      <th>machining_finalized</th>\n",
       "      <th>passed_visual_inspection</th>\n",
       "    </tr>\n",
       "  </thead>\n",
       "  <tbody>\n",
       "    <tr>\n",
       "      <th>0</th>\n",
       "      <td>198.0</td>\n",
       "      <td>0.0</td>\n",
       "      <td>0.00</td>\n",
       "      <td>198.0</td>\n",
       "      <td>0.0</td>\n",
       "      <td>0.000000</td>\n",
       "      <td>0.18</td>\n",
       "      <td>0.0207</td>\n",
       "      <td>329.0</td>\n",
       "      <td>2.77</td>\n",
       "      <td>...</td>\n",
       "      <td>0.0</td>\n",
       "      <td>50.0</td>\n",
       "      <td>Starting</td>\n",
       "      <td>1</td>\n",
       "      <td>wax</td>\n",
       "      <td>6</td>\n",
       "      <td>4.0</td>\n",
       "      <td>unworn</td>\n",
       "      <td>yes</td>\n",
       "      <td>yes</td>\n",
       "    </tr>\n",
       "    <tr>\n",
       "      <th>1</th>\n",
       "      <td>198.0</td>\n",
       "      <td>-10.8</td>\n",
       "      <td>-350.00</td>\n",
       "      <td>198.0</td>\n",
       "      <td>-13.6</td>\n",
       "      <td>-358.000000</td>\n",
       "      <td>-10.90</td>\n",
       "      <td>0.1860</td>\n",
       "      <td>328.0</td>\n",
       "      <td>23.30</td>\n",
       "      <td>...</td>\n",
       "      <td>4.0</td>\n",
       "      <td>50.0</td>\n",
       "      <td>Prep</td>\n",
       "      <td>1</td>\n",
       "      <td>wax</td>\n",
       "      <td>6</td>\n",
       "      <td>4.0</td>\n",
       "      <td>unworn</td>\n",
       "      <td>yes</td>\n",
       "      <td>yes</td>\n",
       "    </tr>\n",
       "    <tr>\n",
       "      <th>2</th>\n",
       "      <td>196.0</td>\n",
       "      <td>-17.8</td>\n",
       "      <td>-6.25</td>\n",
       "      <td>196.0</td>\n",
       "      <td>-17.9</td>\n",
       "      <td>-0.000095</td>\n",
       "      <td>-8.59</td>\n",
       "      <td>0.1400</td>\n",
       "      <td>328.0</td>\n",
       "      <td>30.60</td>\n",
       "      <td>...</td>\n",
       "      <td>7.0</td>\n",
       "      <td>50.0</td>\n",
       "      <td>Prep</td>\n",
       "      <td>1</td>\n",
       "      <td>wax</td>\n",
       "      <td>6</td>\n",
       "      <td>4.0</td>\n",
       "      <td>unworn</td>\n",
       "      <td>yes</td>\n",
       "      <td>yes</td>\n",
       "    </tr>\n",
       "    <tr>\n",
       "      <th>3</th>\n",
       "      <td>194.0</td>\n",
       "      <td>-18.0</td>\n",
       "      <td>0.00</td>\n",
       "      <td>194.0</td>\n",
       "      <td>-17.9</td>\n",
       "      <td>-0.000095</td>\n",
       "      <td>-6.11</td>\n",
       "      <td>0.1300</td>\n",
       "      <td>327.0</td>\n",
       "      <td>30.30</td>\n",
       "      <td>...</td>\n",
       "      <td>7.0</td>\n",
       "      <td>50.0</td>\n",
       "      <td>Prep</td>\n",
       "      <td>1</td>\n",
       "      <td>wax</td>\n",
       "      <td>6</td>\n",
       "      <td>4.0</td>\n",
       "      <td>unworn</td>\n",
       "      <td>yes</td>\n",
       "      <td>yes</td>\n",
       "    </tr>\n",
       "    <tr>\n",
       "      <th>4</th>\n",
       "      <td>193.0</td>\n",
       "      <td>-17.9</td>\n",
       "      <td>-18.80</td>\n",
       "      <td>192.0</td>\n",
       "      <td>-17.9</td>\n",
       "      <td>0.000095</td>\n",
       "      <td>-5.70</td>\n",
       "      <td>0.1140</td>\n",
       "      <td>328.0</td>\n",
       "      <td>30.50</td>\n",
       "      <td>...</td>\n",
       "      <td>7.0</td>\n",
       "      <td>50.0</td>\n",
       "      <td>Prep</td>\n",
       "      <td>1</td>\n",
       "      <td>wax</td>\n",
       "      <td>6</td>\n",
       "      <td>4.0</td>\n",
       "      <td>unworn</td>\n",
       "      <td>yes</td>\n",
       "      <td>yes</td>\n",
       "    </tr>\n",
       "  </tbody>\n",
       "</table>\n",
       "<p>5 rows × 55 columns</p>\n",
       "</div>"
      ],
      "text/plain": [
       "   X1_ActualPosition  X1_ActualVelocity  X1_ActualAcceleration  \\\n",
       "0              198.0                0.0                   0.00   \n",
       "1              198.0              -10.8                -350.00   \n",
       "2              196.0              -17.8                  -6.25   \n",
       "3              194.0              -18.0                   0.00   \n",
       "4              193.0              -17.9                 -18.80   \n",
       "\n",
       "   X1_CommandPosition  X1_CommandVelocity  X1_CommandAcceleration  \\\n",
       "0               198.0                 0.0                0.000000   \n",
       "1               198.0               -13.6             -358.000000   \n",
       "2               196.0               -17.9               -0.000095   \n",
       "3               194.0               -17.9               -0.000095   \n",
       "4               192.0               -17.9                0.000095   \n",
       "\n",
       "   X1_CurrentFeedback  X1_DCBusVoltage  X1_OutputCurrent  X1_OutputVoltage  \\\n",
       "0                0.18           0.0207             329.0              2.77   \n",
       "1              -10.90           0.1860             328.0             23.30   \n",
       "2               -8.59           0.1400             328.0             30.60   \n",
       "3               -6.11           0.1300             327.0             30.30   \n",
       "4               -5.70           0.1140             328.0             30.50   \n",
       "\n",
       "   ...  M1_sequence_number  M1_CURRENT_FEEDRATE  Machining_Process  exp_num  \\\n",
       "0  ...                 0.0                 50.0           Starting        1   \n",
       "1  ...                 4.0                 50.0               Prep        1   \n",
       "2  ...                 7.0                 50.0               Prep        1   \n",
       "3  ...                 7.0                 50.0               Prep        1   \n",
       "4  ...                 7.0                 50.0               Prep        1   \n",
       "\n",
       "   material  feedrate  clamp_pressure  tool_condition  machining_finalized  \\\n",
       "0       wax         6             4.0          unworn                  yes   \n",
       "1       wax         6             4.0          unworn                  yes   \n",
       "2       wax         6             4.0          unworn                  yes   \n",
       "3       wax         6             4.0          unworn                  yes   \n",
       "4       wax         6             4.0          unworn                  yes   \n",
       "\n",
       "   passed_visual_inspection  \n",
       "0                       yes  \n",
       "1                       yes  \n",
       "2                       yes  \n",
       "3                       yes  \n",
       "4                       yes  \n",
       "\n",
       "[5 rows x 55 columns]"
      ]
     },
     "execution_count": 13,
     "metadata": {},
     "output_type": "execute_result"
    }
   ],
   "source": [
    "frames = []\n",
    "for i in range(1,19):\n",
    "    #load files\n",
    "    exp_num = '0' + str(i) if i < 10 else str(i)\n",
    "    frame = pd.read_csv(f\"/home/maximka/Desktop/python_jup/experiments/experiment_{exp_num}.csv\")\n",
    "\n",
    "    #load each experiment result row\n",
    "    exp_result_row = experiment_result[experiment_result['No'] == i]\n",
    "    frame['exp_num'] = i\n",
    "\n",
    "    #add experiment settings to features\n",
    "    frame['material'] = exp_result_row.iloc[0]['material']\n",
    "    frame['feedrate'] = exp_result_row.iloc[0]['feedrate']\n",
    "    frame['clamp_pressure'] = exp_result_row.iloc[0]['clamp_pressure']\n",
    "    \n",
    "    #add experiment result to features\n",
    "    frame['tool_condition'] = exp_result_row.iloc[0]['tool_condition']\n",
    "    frame['machining_finalized'] = exp_result_row.iloc[0]['machining_finalized']\n",
    "    frame['passed_visual_inspection'] = exp_result_row.iloc[0]['passed_visual_inspection']\n",
    "\n",
    "    frames.append(frame)\n",
    "\n",
    "df = pd.concat(frames, ignore_index = True)\n",
    "df.head()"
   ]
  },
  {
   "cell_type": "code",
   "execution_count": 14,
   "metadata": {
    "execution": {
     "iopub.execute_input": "2021-10-05T15:09:56.486732Z",
     "iopub.status.busy": "2021-10-05T15:09:56.486382Z",
     "iopub.status.idle": "2021-10-05T15:09:56.495034Z",
     "shell.execute_reply": "2021-10-05T15:09:56.493978Z",
     "shell.execute_reply.started": "2021-10-05T15:09:56.486678Z"
    }
   },
   "outputs": [
    {
     "data": {
      "text/plain": [
       "(25286, 55)"
      ]
     },
     "execution_count": 14,
     "metadata": {},
     "output_type": "execute_result"
    }
   ],
   "source": [
    "df.shape"
   ]
  },
  {
   "cell_type": "code",
   "execution_count": 15,
   "metadata": {
    "_kg_hide-input": true,
    "execution": {
     "iopub.execute_input": "2021-10-05T18:47:38.092750Z",
     "iopub.status.busy": "2021-10-05T18:47:38.092394Z",
     "iopub.status.idle": "2021-10-05T18:47:38.109532Z",
     "shell.execute_reply": "2021-10-05T18:47:38.108335Z",
     "shell.execute_reply.started": "2021-10-05T18:47:38.092676Z"
    }
   },
   "outputs": [
    {
     "data": {
      "text/plain": [
       "End              2585\n",
       "Layer 1 Down     2655\n",
       "Layer 1 Up       4085\n",
       "Layer 2 Down     2528\n",
       "Layer 2 Up       3104\n",
       "Layer 3 Down     2354\n",
       "Layer 3 Up       2794\n",
       "Prep             1795\n",
       "Repositioning    3377\n",
       "Starting            1\n",
       "end                 8\n",
       "Name: Machining_Process, dtype: int64"
      ]
     },
     "execution_count": 15,
     "metadata": {},
     "output_type": "execute_result"
    }
   ],
   "source": [
    "df['Machining_Process'].value_counts().sort_index()"
   ]
  },
  {
   "cell_type": "code",
   "execution_count": 16,
   "metadata": {
    "_kg_hide-input": true,
    "execution": {
     "iopub.execute_input": "2021-10-05T10:34:34.562009Z",
     "iopub.status.busy": "2021-10-05T10:34:34.561687Z",
     "iopub.status.idle": "2021-10-05T10:34:34.602547Z",
     "shell.execute_reply": "2021-10-05T10:34:34.601787Z",
     "shell.execute_reply.started": "2021-10-05T10:34:34.561952Z"
    }
   },
   "outputs": [
    {
     "name": "stdout",
     "output_type": "stream",
     "text": [
      "Count of Starting label in Machining_Process column is 1 only in experimet_1\n",
      "Count of end label in Machining_Process column is 8 only in experimet_1\n"
     ]
    }
   ],
   "source": [
    "print(f\"Count of Starting label in Machining_Process column is 1 only in experimet_{df[df['Machining_Process']=='Starting'].exp_num.value_counts().index[0]}\")\n",
    "print(f\"Count of end label in Machining_Process column is 8 only in experimet_{df[df['Machining_Process']=='end'].exp_num.value_counts().index[0]}\")"
   ]
  },
  {
   "cell_type": "code",
   "execution_count": 17,
   "metadata": {
    "execution": {
     "iopub.execute_input": "2021-10-05T18:47:40.649028Z",
     "iopub.status.busy": "2021-10-05T18:47:40.648500Z",
     "iopub.status.idle": "2021-10-05T18:47:40.678184Z",
     "shell.execute_reply": "2021-10-05T18:47:40.677452Z",
     "shell.execute_reply.started": "2021-10-05T18:47:40.648979Z"
    }
   },
   "outputs": [],
   "source": [
    "df.replace({'Machining_Process': {'Starting':'Prep','end':'End'}}, inplace=True)"
   ]
  },
  {
   "cell_type": "markdown",
   "metadata": {},
   "source": [
    "# 4. Modeling\n"
   ]
  },
  {
   "cell_type": "code",
   "execution_count": 20,
   "metadata": {
    "execution": {
     "iopub.execute_input": "2021-10-05T18:48:19.408331Z",
     "iopub.status.busy": "2021-10-05T18:48:19.407972Z",
     "iopub.status.idle": "2021-10-05T18:48:19.434134Z",
     "shell.execute_reply": "2021-10-05T18:48:19.433041Z",
     "shell.execute_reply.started": "2021-10-05T18:48:19.408243Z"
    }
   },
   "outputs": [],
   "source": [
    "for ax in ['X','Y','Z','S']:\n",
    "    df[f'{ax}1_Position_Diff'] = abs(df[f'{ax}1_CommandPosition']-df[f'{ax}1_ActualPosition'])\n",
    "    df[f'{ax}1_Velocity_Diff'] = abs(df[f'{ax}1_CommandVelocity']-df[f'{ax}1_ActualVelocity'])\n",
    "    df[f'{ax}1_Acceleration_Diff'] = abs(df[f'{ax}1_CommandAcceleration']-df[f'{ax}1_ActualAcceleration'])"
   ]
  },
  {
   "cell_type": "code",
   "execution_count": 21,
   "metadata": {
    "execution": {
     "iopub.execute_input": "2021-10-05T18:48:22.843174Z",
     "iopub.status.busy": "2021-10-05T18:48:22.842713Z",
     "iopub.status.idle": "2021-10-05T18:48:30.367098Z",
     "shell.execute_reply": "2021-10-05T18:48:30.366158Z",
     "shell.execute_reply.started": "2021-10-05T18:48:22.843132Z"
    }
   },
   "outputs": [],
   "source": [
    "for col in ['ActualPosition','ActualVelocity','ActualAcceleration','CurrentFeedback','DCBusVoltage','OutputCurrent','OutputVoltage','OutputPower']:\n",
    "    dt = 0.1\n",
    "    for i in range(1,19):\n",
    "        for ax in ['X','Y','Z','S']:\n",
    "            try:\n",
    "                f = df[df['exp_num']==i].reset_index()[f'{ax}1_{col}']\n",
    "            except:\n",
    "                continue\n",
    "                \n",
    "            N = len(f)\n",
    "            t = np.arange(0, N*dt, dt)\n",
    "            freq = np.linspace(0, 1.0/dt, N)\n",
    "            F = np.fft.fft(f)\n",
    "            F_abs = np.abs(F) / (N/2) \n",
    "            F_abs[0] = F_abs[0] / 2\n",
    "            maximal_idx = signal.argrelmax(F_abs, order=1)[0]\n",
    "\n",
    "            high_amp = np.max(F_abs[maximal_idx]) if len(maximal_idx) > 0 else 0\n",
    "            high_freq = freq[maximal_idx][np.argmax(F_abs[maximal_idx])] if len(maximal_idx) > 0 else 0\n",
    "\n",
    "            df.loc[df['exp_num']==i,f'{ax}1_{col}_High_Amp'] = high_amp\n",
    "            df.loc[df['exp_num']==i,f'{ax}1_{col}_High_Freq'] = high_freq\n",
    "            df.loc[df['exp_num']==i,f'{ax}1_{col}_High_Amp_Freq'] = high_amp * high_freq"
   ]
  },
  {
   "cell_type": "markdown",
   "metadata": {},
   "source": [
    ">label encoding & drop unnecessary columns"
   ]
  },
  {
   "cell_type": "code",
   "execution_count": 22,
   "metadata": {
    "execution": {
     "iopub.execute_input": "2021-10-05T18:48:30.368830Z",
     "iopub.status.busy": "2021-10-05T18:48:30.368589Z",
     "iopub.status.idle": "2021-10-05T18:48:30.457026Z",
     "shell.execute_reply": "2021-10-05T18:48:30.456035Z",
     "shell.execute_reply.started": "2021-10-05T18:48:30.368796Z"
    }
   },
   "outputs": [
    {
     "data": {
      "text/html": [
       "<div>\n",
       "<style scoped>\n",
       "    .dataframe tbody tr th:only-of-type {\n",
       "        vertical-align: middle;\n",
       "    }\n",
       "\n",
       "    .dataframe tbody tr th {\n",
       "        vertical-align: top;\n",
       "    }\n",
       "\n",
       "    .dataframe thead th {\n",
       "        text-align: right;\n",
       "    }\n",
       "</style>\n",
       "<table border=\"1\" class=\"dataframe\">\n",
       "  <thead>\n",
       "    <tr style=\"text-align: right;\">\n",
       "      <th></th>\n",
       "      <th>X1_ActualPosition</th>\n",
       "      <th>X1_ActualVelocity</th>\n",
       "      <th>X1_ActualAcceleration</th>\n",
       "      <th>X1_CommandPosition</th>\n",
       "      <th>X1_CommandVelocity</th>\n",
       "      <th>X1_CommandAcceleration</th>\n",
       "      <th>X1_CurrentFeedback</th>\n",
       "      <th>X1_DCBusVoltage</th>\n",
       "      <th>X1_OutputCurrent</th>\n",
       "      <th>X1_OutputVoltage</th>\n",
       "      <th>...</th>\n",
       "      <th>S1_OutputVoltage_High_Amp_Freq</th>\n",
       "      <th>X1_OutputPower_High_Amp</th>\n",
       "      <th>X1_OutputPower_High_Freq</th>\n",
       "      <th>X1_OutputPower_High_Amp_Freq</th>\n",
       "      <th>Y1_OutputPower_High_Amp</th>\n",
       "      <th>Y1_OutputPower_High_Freq</th>\n",
       "      <th>Y1_OutputPower_High_Amp_Freq</th>\n",
       "      <th>S1_OutputPower_High_Amp</th>\n",
       "      <th>S1_OutputPower_High_Freq</th>\n",
       "      <th>S1_OutputPower_High_Amp_Freq</th>\n",
       "    </tr>\n",
       "  </thead>\n",
       "  <tbody>\n",
       "    <tr>\n",
       "      <th>0</th>\n",
       "      <td>198.0</td>\n",
       "      <td>0.0</td>\n",
       "      <td>0.00</td>\n",
       "      <td>198.0</td>\n",
       "      <td>0.0</td>\n",
       "      <td>0.000000</td>\n",
       "      <td>0.18</td>\n",
       "      <td>0.0207</td>\n",
       "      <td>329.0</td>\n",
       "      <td>2.77</td>\n",
       "      <td>...</td>\n",
       "      <td>0.222398</td>\n",
       "      <td>0.000492</td>\n",
       "      <td>0.199241</td>\n",
       "      <td>0.000098</td>\n",
       "      <td>0.000725</td>\n",
       "      <td>9.867173</td>\n",
       "      <td>0.00715</td>\n",
       "      <td>0.011293</td>\n",
       "      <td>3.358634</td>\n",
       "      <td>0.03793</td>\n",
       "    </tr>\n",
       "    <tr>\n",
       "      <th>1</th>\n",
       "      <td>198.0</td>\n",
       "      <td>-10.8</td>\n",
       "      <td>-350.00</td>\n",
       "      <td>198.0</td>\n",
       "      <td>-13.6</td>\n",
       "      <td>-358.000000</td>\n",
       "      <td>-10.90</td>\n",
       "      <td>0.1860</td>\n",
       "      <td>328.0</td>\n",
       "      <td>23.30</td>\n",
       "      <td>...</td>\n",
       "      <td>0.222398</td>\n",
       "      <td>0.000492</td>\n",
       "      <td>0.199241</td>\n",
       "      <td>0.000098</td>\n",
       "      <td>0.000725</td>\n",
       "      <td>9.867173</td>\n",
       "      <td>0.00715</td>\n",
       "      <td>0.011293</td>\n",
       "      <td>3.358634</td>\n",
       "      <td>0.03793</td>\n",
       "    </tr>\n",
       "    <tr>\n",
       "      <th>2</th>\n",
       "      <td>196.0</td>\n",
       "      <td>-17.8</td>\n",
       "      <td>-6.25</td>\n",
       "      <td>196.0</td>\n",
       "      <td>-17.9</td>\n",
       "      <td>-0.000095</td>\n",
       "      <td>-8.59</td>\n",
       "      <td>0.1400</td>\n",
       "      <td>328.0</td>\n",
       "      <td>30.60</td>\n",
       "      <td>...</td>\n",
       "      <td>0.222398</td>\n",
       "      <td>0.000492</td>\n",
       "      <td>0.199241</td>\n",
       "      <td>0.000098</td>\n",
       "      <td>0.000725</td>\n",
       "      <td>9.867173</td>\n",
       "      <td>0.00715</td>\n",
       "      <td>0.011293</td>\n",
       "      <td>3.358634</td>\n",
       "      <td>0.03793</td>\n",
       "    </tr>\n",
       "  </tbody>\n",
       "</table>\n",
       "<p>3 rows × 158 columns</p>\n",
       "</div>"
      ],
      "text/plain": [
       "   X1_ActualPosition  X1_ActualVelocity  X1_ActualAcceleration  \\\n",
       "0              198.0                0.0                   0.00   \n",
       "1              198.0              -10.8                -350.00   \n",
       "2              196.0              -17.8                  -6.25   \n",
       "\n",
       "   X1_CommandPosition  X1_CommandVelocity  X1_CommandAcceleration  \\\n",
       "0               198.0                 0.0                0.000000   \n",
       "1               198.0               -13.6             -358.000000   \n",
       "2               196.0               -17.9               -0.000095   \n",
       "\n",
       "   X1_CurrentFeedback  X1_DCBusVoltage  X1_OutputCurrent  X1_OutputVoltage  \\\n",
       "0                0.18           0.0207             329.0              2.77   \n",
       "1              -10.90           0.1860             328.0             23.30   \n",
       "2               -8.59           0.1400             328.0             30.60   \n",
       "\n",
       "   ...  S1_OutputVoltage_High_Amp_Freq  X1_OutputPower_High_Amp  \\\n",
       "0  ...                        0.222398                 0.000492   \n",
       "1  ...                        0.222398                 0.000492   \n",
       "2  ...                        0.222398                 0.000492   \n",
       "\n",
       "   X1_OutputPower_High_Freq  X1_OutputPower_High_Amp_Freq  \\\n",
       "0                  0.199241                      0.000098   \n",
       "1                  0.199241                      0.000098   \n",
       "2                  0.199241                      0.000098   \n",
       "\n",
       "   Y1_OutputPower_High_Amp  Y1_OutputPower_High_Freq  \\\n",
       "0                 0.000725                  9.867173   \n",
       "1                 0.000725                  9.867173   \n",
       "2                 0.000725                  9.867173   \n",
       "\n",
       "   Y1_OutputPower_High_Amp_Freq  S1_OutputPower_High_Amp  \\\n",
       "0                       0.00715                 0.011293   \n",
       "1                       0.00715                 0.011293   \n",
       "2                       0.00715                 0.011293   \n",
       "\n",
       "   S1_OutputPower_High_Freq  S1_OutputPower_High_Amp_Freq  \n",
       "0                  3.358634                       0.03793  \n",
       "1                  3.358634                       0.03793  \n",
       "2                  3.358634                       0.03793  \n",
       "\n",
       "[3 rows x 158 columns]"
      ]
     },
     "execution_count": 22,
     "metadata": {},
     "output_type": "execute_result"
    }
   ],
   "source": [
    "feature_df = df.copy()\n",
    "feature_df['Machining_Process'] = LabelEncoder().fit_transform(feature_df['Machining_Process']).astype(np.int8)\n",
    "feature_df['tool_condition'] = LabelEncoder().fit_transform(feature_df['tool_condition']).astype(np.int8)\n",
    "feature_df['machining_finalized'] = LabelEncoder().fit_transform(feature_df['machining_finalized']).astype(np.int8)\n",
    "feature_df['passed_visual_inspection'] = LabelEncoder().fit_transform(feature_df['passed_visual_inspection']).astype(np.int8)\n",
    "feature_df.drop(['material','exp_num'], axis=1, inplace=True)\n",
    "feature_df.head(3)"
   ]
  },
  {
   "cell_type": "code",
   "execution_count": 23,
   "metadata": {
    "execution": {
     "iopub.execute_input": "2021-10-05T18:48:32.151848Z",
     "iopub.status.busy": "2021-10-05T18:48:32.151508Z",
     "iopub.status.idle": "2021-10-05T18:48:32.158250Z",
     "shell.execute_reply": "2021-10-05T18:48:32.157230Z",
     "shell.execute_reply.started": "2021-10-05T18:48:32.151789Z"
    }
   },
   "outputs": [
    {
     "data": {
      "text/plain": [
       "((25286, 158),)"
      ]
     },
     "execution_count": 23,
     "metadata": {},
     "output_type": "execute_result"
    }
   ],
   "source": [
    "feature_df.shape,"
   ]
  },
  {
   "cell_type": "code",
   "execution_count": 24,
   "metadata": {
    "execution": {
     "iopub.execute_input": "2021-10-05T15:21:23.635701Z",
     "iopub.status.busy": "2021-10-05T15:21:23.635135Z",
     "iopub.status.idle": "2021-10-05T15:21:23.648061Z",
     "shell.execute_reply": "2021-10-05T15:21:23.646918Z",
     "shell.execute_reply.started": "2021-10-05T15:21:23.635650Z"
    }
   },
   "outputs": [
    {
     "data": {
      "text/plain": [
       "2.790000e-19    770\n",
       "2.780000e-19    709\n",
       "1.010000e-01    259\n",
       "1.020000e-01    251\n",
       "1.040000e-01    235\n",
       "               ... \n",
       "3.270000e-01      1\n",
       "2.830000e-01      1\n",
       "2.500000e-01      1\n",
       "3.650000e-01      1\n",
       "3.010000e-01      1\n",
       "Name: X1_DCBusVoltage, Length: 1042, dtype: int64"
      ]
     },
     "execution_count": 24,
     "metadata": {},
     "output_type": "execute_result"
    }
   ],
   "source": [
    "feature_df['X1_DCBusVoltage'].value_counts()"
   ]
  },
  {
   "cell_type": "markdown",
   "metadata": {},
   "source": [
    "## Case1 : Tool Condition"
   ]
  },
  {
   "cell_type": "code",
   "execution_count": 33,
   "metadata": {
    "execution": {
     "iopub.execute_input": "2021-10-05T18:48:46.528767Z",
     "iopub.status.busy": "2021-10-05T18:48:46.528187Z",
     "iopub.status.idle": "2021-10-05T18:48:48.286539Z",
     "shell.execute_reply": "2021-10-05T18:48:48.285442Z",
     "shell.execute_reply.started": "2021-10-05T18:48:46.528648Z"
    }
   },
   "outputs": [],
   "source": [
    "from keras.models import Sequential\n",
    "from keras.layers import Dense, LSTM, Dropout, GRU\n",
    "from keras.layers import *\n",
    "from sklearn.preprocessing import MinMaxScaler"
   ]
  },
  {
   "cell_type": "code",
   "execution_count": 34,
   "metadata": {
    "execution": {
     "iopub.execute_input": "2021-10-05T11:20:21.579420Z",
     "iopub.status.busy": "2021-10-05T11:20:21.579047Z",
     "iopub.status.idle": "2021-10-05T11:20:21.587270Z",
     "shell.execute_reply": "2021-10-05T11:20:21.585890Z",
     "shell.execute_reply.started": "2021-10-05T11:20:21.579364Z"
    }
   },
   "outputs": [],
   "source": [
    "feature_df['X1_DCBusVoltage_High_Freq'] = feature_df['X1_DCBusVoltage_High_Freq'].astype(float)"
   ]
  },
  {
   "cell_type": "code",
   "execution_count": 35,
   "metadata": {
    "execution": {
     "iopub.execute_input": "2021-10-05T15:54:16.403931Z",
     "iopub.status.busy": "2021-10-05T15:54:16.403257Z",
     "iopub.status.idle": "2021-10-05T15:54:16.438376Z",
     "shell.execute_reply": "2021-10-05T15:54:16.437661Z",
     "shell.execute_reply.started": "2021-10-05T15:54:16.403875Z"
    }
   },
   "outputs": [
    {
     "data": {
      "text/html": [
       "<div>\n",
       "<style scoped>\n",
       "    .dataframe tbody tr th:only-of-type {\n",
       "        vertical-align: middle;\n",
       "    }\n",
       "\n",
       "    .dataframe tbody tr th {\n",
       "        vertical-align: top;\n",
       "    }\n",
       "\n",
       "    .dataframe thead th {\n",
       "        text-align: right;\n",
       "    }\n",
       "</style>\n",
       "<table border=\"1\" class=\"dataframe\">\n",
       "  <thead>\n",
       "    <tr style=\"text-align: right;\">\n",
       "      <th></th>\n",
       "      <th>X1_ActualPosition</th>\n",
       "      <th>X1_ActualVelocity</th>\n",
       "      <th>X1_ActualAcceleration</th>\n",
       "      <th>X1_CommandPosition</th>\n",
       "      <th>X1_CommandVelocity</th>\n",
       "      <th>X1_CommandAcceleration</th>\n",
       "      <th>X1_CurrentFeedback</th>\n",
       "      <th>X1_DCBusVoltage</th>\n",
       "      <th>X1_OutputCurrent</th>\n",
       "      <th>X1_OutputVoltage</th>\n",
       "      <th>...</th>\n",
       "      <th>S1_OutputVoltage_High_Amp_Freq</th>\n",
       "      <th>X1_OutputPower_High_Amp</th>\n",
       "      <th>X1_OutputPower_High_Freq</th>\n",
       "      <th>X1_OutputPower_High_Amp_Freq</th>\n",
       "      <th>Y1_OutputPower_High_Amp</th>\n",
       "      <th>Y1_OutputPower_High_Freq</th>\n",
       "      <th>Y1_OutputPower_High_Amp_Freq</th>\n",
       "      <th>S1_OutputPower_High_Amp</th>\n",
       "      <th>S1_OutputPower_High_Freq</th>\n",
       "      <th>S1_OutputPower_High_Amp_Freq</th>\n",
       "    </tr>\n",
       "  </thead>\n",
       "  <tbody>\n",
       "    <tr>\n",
       "      <th>0</th>\n",
       "      <td>198.0</td>\n",
       "      <td>0.0</td>\n",
       "      <td>0.00</td>\n",
       "      <td>198.0</td>\n",
       "      <td>0.0</td>\n",
       "      <td>0.000000</td>\n",
       "      <td>0.18</td>\n",
       "      <td>0.0207</td>\n",
       "      <td>329.0</td>\n",
       "      <td>2.77</td>\n",
       "      <td>...</td>\n",
       "      <td>0.222398</td>\n",
       "      <td>0.000492</td>\n",
       "      <td>0.199241</td>\n",
       "      <td>0.000098</td>\n",
       "      <td>0.000725</td>\n",
       "      <td>9.867173</td>\n",
       "      <td>0.00715</td>\n",
       "      <td>0.011293</td>\n",
       "      <td>3.358634</td>\n",
       "      <td>0.03793</td>\n",
       "    </tr>\n",
       "    <tr>\n",
       "      <th>1</th>\n",
       "      <td>198.0</td>\n",
       "      <td>-10.8</td>\n",
       "      <td>-350.00</td>\n",
       "      <td>198.0</td>\n",
       "      <td>-13.6</td>\n",
       "      <td>-358.000000</td>\n",
       "      <td>-10.90</td>\n",
       "      <td>0.1860</td>\n",
       "      <td>328.0</td>\n",
       "      <td>23.30</td>\n",
       "      <td>...</td>\n",
       "      <td>0.222398</td>\n",
       "      <td>0.000492</td>\n",
       "      <td>0.199241</td>\n",
       "      <td>0.000098</td>\n",
       "      <td>0.000725</td>\n",
       "      <td>9.867173</td>\n",
       "      <td>0.00715</td>\n",
       "      <td>0.011293</td>\n",
       "      <td>3.358634</td>\n",
       "      <td>0.03793</td>\n",
       "    </tr>\n",
       "    <tr>\n",
       "      <th>2</th>\n",
       "      <td>196.0</td>\n",
       "      <td>-17.8</td>\n",
       "      <td>-6.25</td>\n",
       "      <td>196.0</td>\n",
       "      <td>-17.9</td>\n",
       "      <td>-0.000095</td>\n",
       "      <td>-8.59</td>\n",
       "      <td>0.1400</td>\n",
       "      <td>328.0</td>\n",
       "      <td>30.60</td>\n",
       "      <td>...</td>\n",
       "      <td>0.222398</td>\n",
       "      <td>0.000492</td>\n",
       "      <td>0.199241</td>\n",
       "      <td>0.000098</td>\n",
       "      <td>0.000725</td>\n",
       "      <td>9.867173</td>\n",
       "      <td>0.00715</td>\n",
       "      <td>0.011293</td>\n",
       "      <td>3.358634</td>\n",
       "      <td>0.03793</td>\n",
       "    </tr>\n",
       "    <tr>\n",
       "      <th>3</th>\n",
       "      <td>194.0</td>\n",
       "      <td>-18.0</td>\n",
       "      <td>0.00</td>\n",
       "      <td>194.0</td>\n",
       "      <td>-17.9</td>\n",
       "      <td>-0.000095</td>\n",
       "      <td>-6.11</td>\n",
       "      <td>0.1300</td>\n",
       "      <td>327.0</td>\n",
       "      <td>30.30</td>\n",
       "      <td>...</td>\n",
       "      <td>0.222398</td>\n",
       "      <td>0.000492</td>\n",
       "      <td>0.199241</td>\n",
       "      <td>0.000098</td>\n",
       "      <td>0.000725</td>\n",
       "      <td>9.867173</td>\n",
       "      <td>0.00715</td>\n",
       "      <td>0.011293</td>\n",
       "      <td>3.358634</td>\n",
       "      <td>0.03793</td>\n",
       "    </tr>\n",
       "    <tr>\n",
       "      <th>4</th>\n",
       "      <td>193.0</td>\n",
       "      <td>-17.9</td>\n",
       "      <td>-18.80</td>\n",
       "      <td>192.0</td>\n",
       "      <td>-17.9</td>\n",
       "      <td>0.000095</td>\n",
       "      <td>-5.70</td>\n",
       "      <td>0.1140</td>\n",
       "      <td>328.0</td>\n",
       "      <td>30.50</td>\n",
       "      <td>...</td>\n",
       "      <td>0.222398</td>\n",
       "      <td>0.000492</td>\n",
       "      <td>0.199241</td>\n",
       "      <td>0.000098</td>\n",
       "      <td>0.000725</td>\n",
       "      <td>9.867173</td>\n",
       "      <td>0.00715</td>\n",
       "      <td>0.011293</td>\n",
       "      <td>3.358634</td>\n",
       "      <td>0.03793</td>\n",
       "    </tr>\n",
       "  </tbody>\n",
       "</table>\n",
       "<p>5 rows × 158 columns</p>\n",
       "</div>"
      ],
      "text/plain": [
       "   X1_ActualPosition  X1_ActualVelocity  X1_ActualAcceleration  \\\n",
       "0              198.0                0.0                   0.00   \n",
       "1              198.0              -10.8                -350.00   \n",
       "2              196.0              -17.8                  -6.25   \n",
       "3              194.0              -18.0                   0.00   \n",
       "4              193.0              -17.9                 -18.80   \n",
       "\n",
       "   X1_CommandPosition  X1_CommandVelocity  X1_CommandAcceleration  \\\n",
       "0               198.0                 0.0                0.000000   \n",
       "1               198.0               -13.6             -358.000000   \n",
       "2               196.0               -17.9               -0.000095   \n",
       "3               194.0               -17.9               -0.000095   \n",
       "4               192.0               -17.9                0.000095   \n",
       "\n",
       "   X1_CurrentFeedback  X1_DCBusVoltage  X1_OutputCurrent  X1_OutputVoltage  \\\n",
       "0                0.18           0.0207             329.0              2.77   \n",
       "1              -10.90           0.1860             328.0             23.30   \n",
       "2               -8.59           0.1400             328.0             30.60   \n",
       "3               -6.11           0.1300             327.0             30.30   \n",
       "4               -5.70           0.1140             328.0             30.50   \n",
       "\n",
       "   ...  S1_OutputVoltage_High_Amp_Freq  X1_OutputPower_High_Amp  \\\n",
       "0  ...                        0.222398                 0.000492   \n",
       "1  ...                        0.222398                 0.000492   \n",
       "2  ...                        0.222398                 0.000492   \n",
       "3  ...                        0.222398                 0.000492   \n",
       "4  ...                        0.222398                 0.000492   \n",
       "\n",
       "   X1_OutputPower_High_Freq  X1_OutputPower_High_Amp_Freq  \\\n",
       "0                  0.199241                      0.000098   \n",
       "1                  0.199241                      0.000098   \n",
       "2                  0.199241                      0.000098   \n",
       "3                  0.199241                      0.000098   \n",
       "4                  0.199241                      0.000098   \n",
       "\n",
       "   Y1_OutputPower_High_Amp  Y1_OutputPower_High_Freq  \\\n",
       "0                 0.000725                  9.867173   \n",
       "1                 0.000725                  9.867173   \n",
       "2                 0.000725                  9.867173   \n",
       "3                 0.000725                  9.867173   \n",
       "4                 0.000725                  9.867173   \n",
       "\n",
       "   Y1_OutputPower_High_Amp_Freq  S1_OutputPower_High_Amp  \\\n",
       "0                       0.00715                 0.011293   \n",
       "1                       0.00715                 0.011293   \n",
       "2                       0.00715                 0.011293   \n",
       "3                       0.00715                 0.011293   \n",
       "4                       0.00715                 0.011293   \n",
       "\n",
       "   S1_OutputPower_High_Freq  S1_OutputPower_High_Amp_Freq  \n",
       "0                  3.358634                       0.03793  \n",
       "1                  3.358634                       0.03793  \n",
       "2                  3.358634                       0.03793  \n",
       "3                  3.358634                       0.03793  \n",
       "4                  3.358634                       0.03793  \n",
       "\n",
       "[5 rows x 158 columns]"
      ]
     },
     "execution_count": 35,
     "metadata": {},
     "output_type": "execute_result"
    }
   ],
   "source": [
    "feature_df.head()"
   ]
  },
  {
   "cell_type": "code",
   "execution_count": 36,
   "metadata": {
    "execution": {
     "iopub.execute_input": "2021-10-05T18:48:54.703567Z",
     "iopub.status.busy": "2021-10-05T18:48:54.703214Z",
     "iopub.status.idle": "2021-10-05T18:48:54.918485Z",
     "shell.execute_reply": "2021-10-05T18:48:54.917506Z",
     "shell.execute_reply.started": "2021-10-05T18:48:54.703506Z"
    }
   },
   "outputs": [
    {
     "data": {
      "text/plain": [
       "<AxesSubplot:>"
      ]
     },
     "execution_count": 36,
     "metadata": {},
     "output_type": "execute_result"
    },
    {
     "data": {
      "image/png": "[encoded data removed]",
      "text/plain": [
       "<Figure size 1440x432 with 1 Axes>"
      ]
     },
     "metadata": {
      "needs_background": "light"
     },
     "output_type": "display_data"
    }
   ],
   "source": [
    "feature_df['X1_DCBusVoltage_High_Freq'][::500].plot(figsize=(20,6))\n"
   ]
  },
  {
   "cell_type": "code",
   "execution_count": 37,
   "metadata": {
    "execution": {
     "iopub.execute_input": "2021-10-05T18:48:57.800053Z",
     "iopub.status.busy": "2021-10-05T18:48:57.799690Z",
     "iopub.status.idle": "2021-10-05T18:48:57.804967Z",
     "shell.execute_reply": "2021-10-05T18:48:57.803249Z",
     "shell.execute_reply.started": "2021-10-05T18:48:57.800000Z"
    }
   },
   "outputs": [],
   "source": [
    "import math"
   ]
  },
  {
   "cell_type": "code",
   "execution_count": 38,
   "metadata": {
    "execution": {
     "iopub.execute_input": "2021-10-05T18:48:59.947731Z",
     "iopub.status.busy": "2021-10-05T18:48:59.947418Z",
     "iopub.status.idle": "2021-10-05T18:48:59.953835Z",
     "shell.execute_reply": "2021-10-05T18:48:59.952344Z",
     "shell.execute_reply.started": "2021-10-05T18:48:59.947684Z"
    }
   },
   "outputs": [],
   "source": [
    "d = feature_df.filter(['X1_DCBusVoltage_High_Freq'])"
   ]
  },
  {
   "cell_type": "code",
   "execution_count": 39,
   "metadata": {
    "execution": {
     "iopub.execute_input": "2021-10-05T18:49:01.764442Z",
     "iopub.status.busy": "2021-10-05T18:49:01.764134Z",
     "iopub.status.idle": "2021-10-05T18:49:01.769915Z",
     "shell.execute_reply": "2021-10-05T18:49:01.769217Z",
     "shell.execute_reply.started": "2021-10-05T18:49:01.764392Z"
    }
   },
   "outputs": [
    {
     "data": {
      "text/plain": [
       "25286"
      ]
     },
     "execution_count": 39,
     "metadata": {},
     "output_type": "execute_result"
    }
   ],
   "source": [
    "dataset = d.values\n",
    "len(dataset)"
   ]
  },
  {
   "cell_type": "code",
   "execution_count": 40,
   "metadata": {
    "execution": {
     "iopub.execute_input": "2021-10-05T19:58:06.893078Z",
     "iopub.status.busy": "2021-10-05T19:58:06.892768Z",
     "iopub.status.idle": "2021-10-05T19:58:06.899869Z",
     "shell.execute_reply": "2021-10-05T19:58:06.898920Z",
     "shell.execute_reply.started": "2021-10-05T19:58:06.893032Z"
    }
   },
   "outputs": [
    {
     "data": {
      "text/plain": [
       "17701"
      ]
     },
     "execution_count": 40,
     "metadata": {},
     "output_type": "execute_result"
    }
   ],
   "source": [
    "training_data_size = math.ceil(len(dataset)*.7)\n",
    "training_data_size"
   ]
  },
  {
   "cell_type": "code",
   "execution_count": 41,
   "metadata": {
    "execution": {
     "iopub.execute_input": "2021-10-05T20:00:23.271245Z",
     "iopub.status.busy": "2021-10-05T20:00:23.270933Z",
     "iopub.status.idle": "2021-10-05T20:00:23.278522Z",
     "shell.execute_reply": "2021-10-05T20:00:23.277457Z",
     "shell.execute_reply.started": "2021-10-05T20:00:23.271199Z"
    }
   },
   "outputs": [
    {
     "data": {
      "text/plain": [
       "array([[0.983946  ],\n",
       "       [0.983946  ],\n",
       "       [0.983946  ],\n",
       "       ...,\n",
       "       [0.03892291],\n",
       "       [0.03892291],\n",
       "       [0.03892291]])"
      ]
     },
     "execution_count": 41,
     "metadata": {},
     "output_type": "execute_result"
    }
   ],
   "source": [
    "scaler = MinMaxScaler(feature_range=(0,1))\n",
    "scaled_data = scaler.fit_transform(dataset)\n",
    "scaled_data"
   ]
  },
  {
   "cell_type": "code",
   "execution_count": 55,
   "metadata": {
    "execution": {
     "iopub.execute_input": "2021-10-05T20:00:25.569208Z",
     "iopub.status.busy": "2021-10-05T20:00:25.568888Z",
     "iopub.status.idle": "2021-10-05T20:00:25.598658Z",
     "shell.execute_reply": "2021-10-05T20:00:25.597482Z",
     "shell.execute_reply.started": "2021-10-05T20:00:25.569160Z"
    }
   },
   "outputs": [
    {
     "name": "stdout",
     "output_type": "stream",
     "text": [
      "[array([0.983946, 0.983946, 0.983946, 0.983946, 0.983946, 0.983946,\n",
      "       0.983946, 0.983946, 0.983946, 0.983946, 0.983946, 0.983946,\n",
      "       0.983946, 0.983946, 0.983946, 0.983946, 0.983946, 0.983946,\n",
      "       0.983946, 0.983946, 0.983946, 0.983946, 0.983946, 0.983946,\n",
      "       0.983946, 0.983946, 0.983946, 0.983946, 0.983946, 0.983946,\n",
      "       0.983946, 0.983946, 0.983946, 0.983946, 0.983946, 0.983946,\n",
      "       0.983946, 0.983946, 0.983946, 0.983946, 0.983946, 0.983946,\n",
      "       0.983946, 0.983946, 0.983946, 0.983946, 0.983946, 0.983946,\n",
      "       0.983946, 0.983946, 0.983946, 0.983946, 0.983946, 0.983946,\n",
      "       0.983946, 0.983946, 0.983946, 0.983946, 0.983946, 0.983946])]\n",
      "[0.9839460016050515]\n",
      "[array([0.983946, 0.983946, 0.983946, 0.983946, 0.983946, 0.983946,\n",
      "       0.983946, 0.983946, 0.983946, 0.983946, 0.983946, 0.983946,\n",
      "       0.983946, 0.983946, 0.983946, 0.983946, 0.983946, 0.983946,\n",
      "       0.983946, 0.983946, 0.983946, 0.983946, 0.983946, 0.983946,\n",
      "       0.983946, 0.983946, 0.983946, 0.983946, 0.983946, 0.983946,\n",
      "       0.983946, 0.983946, 0.983946, 0.983946, 0.983946, 0.983946,\n",
      "       0.983946, 0.983946, 0.983946, 0.983946, 0.983946, 0.983946,\n",
      "       0.983946, 0.983946, 0.983946, 0.983946, 0.983946, 0.983946,\n",
      "       0.983946, 0.983946, 0.983946, 0.983946, 0.983946, 0.983946,\n",
      "       0.983946, 0.983946, 0.983946, 0.983946, 0.983946, 0.983946]), array([0.983946, 0.983946, 0.983946, 0.983946, 0.983946, 0.983946,\n",
      "       0.983946, 0.983946, 0.983946, 0.983946, 0.983946, 0.983946,\n",
      "       0.983946, 0.983946, 0.983946, 0.983946, 0.983946, 0.983946,\n",
      "       0.983946, 0.983946, 0.983946, 0.983946, 0.983946, 0.983946,\n",
      "       0.983946, 0.983946, 0.983946, 0.983946, 0.983946, 0.983946,\n",
      "       0.983946, 0.983946, 0.983946, 0.983946, 0.983946, 0.983946,\n",
      "       0.983946, 0.983946, 0.983946, 0.983946, 0.983946, 0.983946,\n",
      "       0.983946, 0.983946, 0.983946, 0.983946, 0.983946, 0.983946,\n",
      "       0.983946, 0.983946, 0.983946, 0.983946, 0.983946, 0.983946,\n",
      "       0.983946, 0.983946, 0.983946, 0.983946, 0.983946, 0.983946])]\n",
      "[0.9839460016050515, 0.9839460016050515]\n"
     ]
    }
   ],
   "source": [
    "train_data = scaled_data[0:training_data_size,:]\n",
    "x_train_1=[]\n",
    "y_train_1=[]\n",
    "for i in range(60,len(train_data)):\n",
    "    x_train_1.append(train_data[i-60:i,0])\n",
    "    y_train_1.append(train_data[i,0])\n",
    "    if i<=61:\n",
    "        print(x_train_1)\n",
    "        print(y_train_1)"
   ]
  },
  {
   "cell_type": "code",
   "execution_count": 61,
   "metadata": {
    "execution": {
     "iopub.execute_input": "2021-10-05T20:02:08.891084Z",
     "iopub.status.busy": "2021-10-05T20:02:08.890792Z",
     "iopub.status.idle": "2021-10-05T20:02:08.903471Z",
     "shell.execute_reply": "2021-10-05T20:02:08.902399Z",
     "shell.execute_reply.started": "2021-10-05T20:02:08.891045Z"
    }
   },
   "outputs": [
    {
     "data": {
      "text/plain": [
       "(17641, 60, 1)"
      ]
     },
     "execution_count": 61,
     "metadata": {},
     "output_type": "execute_result"
    }
   ],
   "source": [
    "x_train_1, y_train_1 = np.array(x_train_1), np.array(y_train_1)\n",
    "x_train_1 = np.reshape(x_train_1,(x_train_1.shape[0],x_train_1.shape[1],1))\n",
    "x_train_1.shape"
   ]
  },
  {
   "cell_type": "code",
   "execution_count": 63,
   "metadata": {},
   "outputs": [
    {
     "data": {
      "text/plain": [
       "array([[[0.983946  ],\n",
       "        [0.983946  ],\n",
       "        [0.983946  ],\n",
       "        ...,\n",
       "        [0.983946  ],\n",
       "        [0.983946  ],\n",
       "        [0.983946  ]],\n",
       "\n",
       "       [[0.983946  ],\n",
       "        [0.983946  ],\n",
       "        [0.983946  ],\n",
       "        ...,\n",
       "        [0.983946  ],\n",
       "        [0.983946  ],\n",
       "        [0.983946  ]],\n",
       "\n",
       "       [[0.983946  ],\n",
       "        [0.983946  ],\n",
       "        [0.983946  ],\n",
       "        ...,\n",
       "        [0.983946  ],\n",
       "        [0.983946  ],\n",
       "        [0.983946  ]],\n",
       "\n",
       "       ...,\n",
       "\n",
       "       [[0.98577327],\n",
       "        [0.98577327],\n",
       "        [0.98577327],\n",
       "        ...,\n",
       "        [0.98577327],\n",
       "        [0.98577327],\n",
       "        [0.98577327]],\n",
       "\n",
       "       [[0.98577327],\n",
       "        [0.98577327],\n",
       "        [0.98577327],\n",
       "        ...,\n",
       "        [0.98577327],\n",
       "        [0.98577327],\n",
       "        [0.98577327]],\n",
       "\n",
       "       [[0.98577327],\n",
       "        [0.98577327],\n",
       "        [0.98577327],\n",
       "        ...,\n",
       "        [0.98577327],\n",
       "        [0.98577327],\n",
       "        [0.98577327]]])"
      ]
     },
     "execution_count": 63,
     "metadata": {},
     "output_type": "execute_result"
    }
   ],
   "source": [
    "x_train_1"
   ]
  },
  {
   "cell_type": "code",
   "execution_count": 65,
   "metadata": {
    "execution": {
     "iopub.execute_input": "2021-10-05T20:02:11.861260Z",
     "iopub.status.busy": "2021-10-05T20:02:11.860594Z",
     "iopub.status.idle": "2021-10-05T20:02:12.133604Z",
     "shell.execute_reply": "2021-10-05T20:02:12.132765Z",
     "shell.execute_reply.started": "2021-10-05T20:02:11.861183Z"
    }
   },
   "outputs": [],
   "source": [
    "model = Sequential()\n",
    "model.add(LSTM(50, return_sequences=True, input_shape = (x_train_1.shape[1], 1)))\n",
    "model.add(LSTM(50, return_sequences=False))\n",
    "model.add(Dense(25))\n",
    "model.add(Dense(1))"
   ]
  },
  {
   "cell_type": "code",
   "execution_count": 66,
   "metadata": {
    "execution": {
     "iopub.execute_input": "2021-10-05T20:02:15.584165Z",
     "iopub.status.busy": "2021-10-05T20:02:15.583620Z",
     "iopub.status.idle": "2021-10-05T20:02:15.607291Z",
     "shell.execute_reply": "2021-10-05T20:02:15.606583Z",
     "shell.execute_reply.started": "2021-10-05T20:02:15.584100Z"
    }
   },
   "outputs": [],
   "source": [
    "model.compile(optimizer = 'adam', loss = 'mean_squared_error')"
   ]
  },
  {
   "cell_type": "code",
   "execution_count": 67,
   "metadata": {
    "execution": {
     "iopub.execute_input": "2021-10-05T20:02:18.839626Z",
     "iopub.status.busy": "2021-10-05T20:02:18.839084Z",
     "iopub.status.idle": "2021-10-05T20:14:20.757832Z",
     "shell.execute_reply": "2021-10-05T20:14:20.756649Z",
     "shell.execute_reply.started": "2021-10-05T20:02:18.839564Z"
    }
   },
   "outputs": [
    {
     "name": "stdout",
     "output_type": "stream",
     "text": [
      "17641/17641 [==============================] - 826s 47ms/step - loss: 0.0013\n"
     ]
    },
    {
     "data": {
      "text/plain": [
       "<keras.callbacks.History at 0x7fbb8aec7bb0>"
      ]
     },
     "execution_count": 67,
     "metadata": {},
     "output_type": "execute_result"
    }
   ],
   "source": [
    "model.fit(x_train_1, y_train_1, batch_size=1,epochs=1)"
   ]
  },
  {
   "cell_type": "code",
   "execution_count": 68,
   "metadata": {
    "execution": {
     "iopub.execute_input": "2021-10-05T20:15:12.510028Z",
     "iopub.status.busy": "2021-10-05T20:15:12.509710Z",
     "iopub.status.idle": "2021-10-05T20:15:12.521034Z",
     "shell.execute_reply": "2021-10-05T20:15:12.519937Z",
     "shell.execute_reply.started": "2021-10-05T20:15:12.509987Z"
    }
   },
   "outputs": [],
   "source": [
    "test_data = scaled_data[training_data_size - 60:, :]\n",
    "x_test_1 = []\n",
    "y_test_1 = dataset[training_data_size:, :]\n",
    "for i in range(60, len(test_data)):\n",
    "    x_test_1.append(test_data[i-60:i, 0])\n",
    "    "
   ]
  },
  {
   "cell_type": "code",
   "execution_count": 71,
   "metadata": {
    "execution": {
     "iopub.execute_input": "2021-10-05T20:15:14.828052Z",
     "iopub.status.busy": "2021-10-05T20:15:14.827677Z",
     "iopub.status.idle": "2021-10-05T20:15:14.839158Z",
     "shell.execute_reply": "2021-10-05T20:15:14.837881Z",
     "shell.execute_reply.started": "2021-10-05T20:15:14.827995Z"
    }
   },
   "outputs": [],
   "source": [
    "x_test_2 = np.array(x_test_1)"
   ]
  },
  {
   "cell_type": "code",
   "execution_count": 72,
   "metadata": {
    "execution": {
     "iopub.execute_input": "2021-10-05T20:15:17.275924Z",
     "iopub.status.busy": "2021-10-05T20:15:17.275546Z",
     "iopub.status.idle": "2021-10-05T20:15:17.282273Z",
     "shell.execute_reply": "2021-10-05T20:15:17.281062Z",
     "shell.execute_reply.started": "2021-10-05T20:15:17.275861Z"
    }
   },
   "outputs": [],
   "source": [
    "x_test_2 = np.reshape(x_test_2, (x_test_2.shape[0], x_test_2.shape[1],1))"
   ]
  },
  {
   "cell_type": "code",
   "execution_count": 74,
   "metadata": {
    "execution": {
     "iopub.execute_input": "2021-10-05T20:15:19.766928Z",
     "iopub.status.busy": "2021-10-05T20:15:19.766457Z",
     "iopub.status.idle": "2021-10-05T20:15:23.330592Z",
     "shell.execute_reply": "2021-10-05T20:15:23.329689Z",
     "shell.execute_reply.started": "2021-10-05T20:15:19.766877Z"
    }
   },
   "outputs": [],
   "source": [
    "predictions = model.predict(x_test_2)\n",
    "predictions = scaler.inverse_transform(predictions)"
   ]
  },
  {
   "cell_type": "code",
   "execution_count": 75,
   "metadata": {
    "execution": {
     "iopub.execute_input": "2021-10-05T20:15:24.686430Z",
     "iopub.status.busy": "2021-10-05T20:15:24.686111Z",
     "iopub.status.idle": "2021-10-05T20:15:24.693015Z",
     "shell.execute_reply": "2021-10-05T20:15:24.692040Z",
     "shell.execute_reply.started": "2021-10-05T20:15:24.686382Z"
    }
   },
   "outputs": [
    {
     "data": {
      "text/plain": [
       "0.012129501307454466"
      ]
     },
     "execution_count": 75,
     "metadata": {},
     "output_type": "execute_result"
    }
   ],
   "source": [
    "rmse = np.sqrt(np.mean(predictions - y_test_1)**2)\n",
    "rmse"
   ]
  },
  {
   "cell_type": "code",
   "execution_count": 76,
   "metadata": {
    "execution": {
     "iopub.execute_input": "2021-10-05T20:18:20.574142Z",
     "iopub.status.busy": "2021-10-05T20:18:20.573651Z",
     "iopub.status.idle": "2021-10-05T20:18:20.787870Z",
     "shell.execute_reply": "2021-10-05T20:18:20.786901Z",
     "shell.execute_reply.started": "2021-10-05T20:18:20.574098Z"
    }
   },
   "outputs": [
    {
     "name": "stderr",
     "output_type": "stream",
     "text": [
      "<ipython-input-76-96314cf21252>:3: SettingWithCopyWarning: \n",
      "A value is trying to be set on a copy of a slice from a DataFrame.\n",
      "Try using .loc[row_indexer,col_indexer] = value instead\n",
      "\n",
      "See the caveats in the documentation: https://pandas.pydata.org/pandas-docs/stable/user_guide/indexing.html#returning-a-view-versus-a-copy\n",
      "  valid['predictions'] = predictions\n"
     ]
    },
    {
     "data": {
      "text/plain": [
       "<function matplotlib.pyplot.show(close=None, block=None)>"
      ]
     },
     "execution_count": 76,
     "metadata": {},
     "output_type": "execute_result"
    },
    {
     "data": {
      "image/png": "[encoded data removed]",
      "text/plain": [
       "<Figure size 1152x576 with 1 Axes>"
      ]
     },
     "metadata": {
      "needs_background": "light"
     },
     "output_type": "display_data"
    }
   ],
   "source": [
    "train = d[:training_data_size]\n",
    "valid = d[training_data_size:]\n",
    "valid['predictions'] = predictions\n",
    "plt.figure(figsize=(16,8))\n",
    "plt.plot(train['X1_DCBusVoltage_High_Freq'])\n",
    "plt.plot(valid[['X1_DCBusVoltage_High_Freq','predictions']])\n",
    "plt.show"
   ]
  },
  {
   "cell_type": "code",
   "execution_count": 77,
   "metadata": {
    "execution": {
     "iopub.execute_input": "2021-10-05T20:32:06.287123Z",
     "iopub.status.busy": "2021-10-05T20:32:06.286763Z",
     "iopub.status.idle": "2021-10-05T20:32:06.359582Z",
     "shell.execute_reply": "2021-10-05T20:32:06.358290Z",
     "shell.execute_reply.started": "2021-10-05T20:32:06.287063Z"
    }
   },
   "outputs": [
    {
     "data": {
      "text/html": [
       "<div>\n",
       "<style scoped>\n",
       "    .dataframe tbody tr th:only-of-type {\n",
       "        vertical-align: middle;\n",
       "    }\n",
       "\n",
       "    .dataframe tbody tr th {\n",
       "        vertical-align: top;\n",
       "    }\n",
       "\n",
       "    .dataframe thead th {\n",
       "        text-align: right;\n",
       "    }\n",
       "</style>\n",
       "<table border=\"1\" class=\"dataframe\">\n",
       "  <thead>\n",
       "    <tr style=\"text-align: right;\">\n",
       "      <th></th>\n",
       "      <th>X1_DCBusVoltage_High_Freq</th>\n",
       "      <th>predictions</th>\n",
       "    </tr>\n",
       "  </thead>\n",
       "  <tbody>\n",
       "    <tr>\n",
       "      <th>17701</th>\n",
       "      <td>9.828400</td>\n",
       "      <td>9.868627</td>\n",
       "    </tr>\n",
       "    <tr>\n",
       "      <th>17702</th>\n",
       "      <td>9.828400</td>\n",
       "      <td>9.868627</td>\n",
       "    </tr>\n",
       "    <tr>\n",
       "      <th>17703</th>\n",
       "      <td>9.828400</td>\n",
       "      <td>9.868627</td>\n",
       "    </tr>\n",
       "    <tr>\n",
       "      <th>17704</th>\n",
       "      <td>9.828400</td>\n",
       "      <td>9.868627</td>\n",
       "    </tr>\n",
       "    <tr>\n",
       "      <th>17705</th>\n",
       "      <td>9.828400</td>\n",
       "      <td>9.868627</td>\n",
       "    </tr>\n",
       "    <tr>\n",
       "      <th>...</th>\n",
       "      <td>...</td>\n",
       "      <td>...</td>\n",
       "    </tr>\n",
       "    <tr>\n",
       "      <th>25281</th>\n",
       "      <td>0.421847</td>\n",
       "      <td>0.442698</td>\n",
       "    </tr>\n",
       "    <tr>\n",
       "      <th>25282</th>\n",
       "      <td>0.421847</td>\n",
       "      <td>0.442698</td>\n",
       "    </tr>\n",
       "    <tr>\n",
       "      <th>25283</th>\n",
       "      <td>0.421847</td>\n",
       "      <td>0.442698</td>\n",
       "    </tr>\n",
       "    <tr>\n",
       "      <th>25284</th>\n",
       "      <td>0.421847</td>\n",
       "      <td>0.442698</td>\n",
       "    </tr>\n",
       "    <tr>\n",
       "      <th>25285</th>\n",
       "      <td>0.421847</td>\n",
       "      <td>0.442698</td>\n",
       "    </tr>\n",
       "  </tbody>\n",
       "</table>\n",
       "<p>7585 rows × 2 columns</p>\n",
       "</div>"
      ],
      "text/plain": [
       "       X1_DCBusVoltage_High_Freq  predictions\n",
       "17701                   9.828400     9.868627\n",
       "17702                   9.828400     9.868627\n",
       "17703                   9.828400     9.868627\n",
       "17704                   9.828400     9.868627\n",
       "17705                   9.828400     9.868627\n",
       "...                          ...          ...\n",
       "25281                   0.421847     0.442698\n",
       "25282                   0.421847     0.442698\n",
       "25283                   0.421847     0.442698\n",
       "25284                   0.421847     0.442698\n",
       "25285                   0.421847     0.442698\n",
       "\n",
       "[7585 rows x 2 columns]"
      ]
     },
     "execution_count": 77,
     "metadata": {},
     "output_type": "execute_result"
    }
   ],
   "source": [
    "valid"
   ]
  }
 ],
 "metadata": {
  "kernelspec": {
   "display_name": "Python 3",
   "language": "python",
   "name": "python3"
  },
  "language_info": {
   "codemirror_mode": {
    "name": "ipython",
    "version": 3
   },
   "file_extension": ".py",
   "mimetype": "text/x-python",
   "name": "python",
   "nbconvert_exporter": "python",
   "pygments_lexer": "ipython3",
   "version": "3.8.8"
  }
 },
 "nbformat": 4,
 "nbformat_minor": 4
}
